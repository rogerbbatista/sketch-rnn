{
  "nbformat": 4,
  "nbformat_minor": 0,
  "metadata": {
    "accelerator": "GPU",
    "colab": {
      "name": "Sketch RNN - Training",
      "provenance": [],
      "collapsed_sections": []
    },
    "kernelspec": {
      "display_name": "Python 3",
      "name": "python3"
    },
    "language_info": {
      "name": "python"
    }
  },
  "cells": [
    {
      "cell_type": "code",
      "metadata": {
        "id": "k0GqvYgB9JLC"
      },
      "source": [
        "# import the required libraries\n",
        "import numpy as np\n",
        "import time\n",
        "import random\n",
        "import pickle\n",
        "import codecs\n",
        "import collections\n",
        "import os\n",
        "import math\n",
        "import json\n",
        "import tensorflow as tf\n",
        "import logging\n",
        "import sys\n",
        "from six.moves import xrange"
      ],
      "execution_count": null,
      "outputs": []
    },
    {
      "cell_type": "code",
      "metadata": {
        "id": "xV1zTHr2fVyz",
        "colab": {
          "base_uri": "https://localhost:8080/"
        },
        "outputId": "35c63159-244f-4c2e-f319-7674f4ac90ab"
      },
      "source": [
        "# install correct numba version and import\n",
        "!pip install -q numba==0.48\n",
        "\n",
        "import numba\n",
        "from numba import jit as optional_jit"
      ],
      "execution_count": null,
      "outputs": [
        {
          "output_type": "stream",
          "name": "stdout",
          "text": [
            "\u001b[K     |████████████████████████████████| 3.5 MB 2.1 MB/s \n",
            "\u001b[K     |████████████████████████████████| 20.2 MB 1.3 MB/s \n",
            "\u001b[?25h"
          ]
        }
      ]
    },
    {
      "cell_type": "code",
      "metadata": {
        "id": "kHI8UHd4cZ80",
        "colab": {
          "base_uri": "https://localhost:8080/"
        },
        "outputId": "9f06b662-b540-4d3c-cfb0-eff53f5c6eac"
      },
      "source": [
        "# mount drive for saving trained models\n",
        "from google.colab import drive\n",
        "drive.mount('/content/drive')"
      ],
      "execution_count": null,
      "outputs": [
        {
          "output_type": "stream",
          "name": "stdout",
          "text": [
            "Mounted at /content/drive\n"
          ]
        }
      ]
    },
    {
      "cell_type": "code",
      "metadata": {
        "id": "eTdNh9BNdzmL",
        "colab": {
          "base_uri": "https://localhost:8080/"
        },
        "outputId": "9eae3d5c-568f-4c86-fe85-5ffeb344452c"
      },
      "source": [
        "# install magenta libraries from my drive because i changed some parameters due to old dependencies.\n",
        "# can be found at https://github.com/rogerbbatista/sketch-rnn/tree/main/modules/magenta-2.1.3\n",
        "# when this work was developed the dependencies were not yet solved, but if you want the original module, remove the comment from code bellow\n",
        "# !pip install -q magenta\n",
        "!pip install -q '/content/drive/MyDrive/modules/magenta-2.1.3'"
      ],
      "execution_count": null,
      "outputs": [
        {
          "output_type": "stream",
          "name": "stdout",
          "text": [
            "\u001b[33m  DEPRECATION: A future pip version will change local packages to be built in-place without first copying to a temporary directory. We recommend you use --use-feature=in-tree-build to test your packages with this new behavior before it becomes the default.\n",
            "   pip 21.3 will remove support for this functionality. You can find discussion regarding this at https://github.com/pypa/pip/issues/7555.\u001b[0m\n",
            "\u001b[K     |████████████████████████████████| 254 kB 4.1 MB/s \n",
            "\u001b[K     |████████████████████████████████| 1.6 MB 37.8 MB/s \n",
            "\u001b[K     |████████████████████████████████| 69 kB 7.1 MB/s \n",
            "\u001b[K     |████████████████████████████████| 87 kB 6.7 MB/s \n",
            "\u001b[K     |████████████████████████████████| 210 kB 53.5 MB/s \n",
            "\u001b[K     |████████████████████████████████| 5.6 MB 15.5 MB/s \n",
            "\u001b[K     |████████████████████████████████| 204 kB 45.3 MB/s \n",
            "\u001b[K     |████████████████████████████████| 2.3 MB 19.4 MB/s \n",
            "\u001b[K     |████████████████████████████████| 1.4 MB 36.1 MB/s \n",
            "\u001b[K     |████████████████████████████████| 352 kB 59.3 MB/s \n",
            "\u001b[K     |████████████████████████████████| 981 kB 36.2 MB/s \n",
            "\u001b[K     |████████████████████████████████| 366 kB 49.0 MB/s \n",
            "\u001b[K     |████████████████████████████████| 48 kB 5.4 MB/s \n",
            "\u001b[K     |████████████████████████████████| 191 kB 53.3 MB/s \n",
            "\u001b[K     |████████████████████████████████| 367 kB 45.6 MB/s \n",
            "\u001b[K     |████████████████████████████████| 1.1 MB 39.5 MB/s \n",
            "\u001b[K     |████████████████████████████████| 5.8 MB 34.7 MB/s \n",
            "\u001b[K     |████████████████████████████████| 79 kB 7.8 MB/s \n",
            "\u001b[K     |████████████████████████████████| 251 kB 49.9 MB/s \n",
            "\u001b[K     |████████████████████████████████| 191 kB 56.1 MB/s \n",
            "\u001b[K     |████████████████████████████████| 178 kB 55.1 MB/s \n",
            "\u001b[?25h  Building wheel for magenta (setup.py) ... \u001b[?25l\u001b[?25hdone\n",
            "  Building wheel for librosa (setup.py) ... \u001b[?25l\u001b[?25hdone\n",
            "  Building wheel for mir-eval (setup.py) ... \u001b[?25l\u001b[?25hdone\n",
            "  Building wheel for pretty-midi (setup.py) ... \u001b[?25l\u001b[?25hdone\n",
            "  Building wheel for pygtrie (setup.py) ... \u001b[?25l\u001b[?25hdone\n",
            "  Building wheel for python-rtmidi (setup.py) ... \u001b[?25l\u001b[?25hdone\n",
            "  Building wheel for bz2file (setup.py) ... \u001b[?25l\u001b[?25hdone\n"
          ]
        }
      ]
    },
    {
      "cell_type": "code",
      "metadata": {
        "id": "tu6YhNeEF_SM"
      },
      "source": [
        "# import magenta.sketch_rnn libraries\n",
        "from magenta.models.sketch_rnn.sketch_rnn_train import *\n",
        "from magenta.models.sketch_rnn.model import *\n",
        "from magenta.models.sketch_rnn.utils import *\n",
        "from magenta.models.sketch_rnn.rnn import *"
      ],
      "execution_count": null,
      "outputs": []
    },
    {
      "cell_type": "code",
      "metadata": {
        "id": "Dipv1EbsFQuZ"
      },
      "source": [
        "# you can download any QuickDraw dataset from Google Cloud repository and use it at: https://console.cloud.google.com/storage/browser/quickdraw_dataset/sketchrnn\n",
        "\n",
        "data_dir = '/content/drive/MyDrive/datasets' # Datasets folder \n",
        "models_path = '/content/drive/MyDrive/models' # Models path\n",
        "model_dir = models_path + '/path' # Current model path"
      ],
      "execution_count": null,
      "outputs": []
    },
    {
      "cell_type": "code",
      "metadata": {
        "id": "rtFk9UkcUzVr"
      },
      "source": [
        "# here I let the default parameters used\n",
        "\n",
        "params = \"\"\n",
        "\n",
        "params += \"data_set=[classes.npz]\"              # Dataset that can be a list of multiple .npz sets.\n",
        "params += \",num_steps=60000\"            # Total number of training set. Keep large.\n",
        "params += \",save_every=500\"                # Number of batches per checkpoint creation.\n",
        "\n",
        "params += \",dec_rnn_size=2048\"              # Size of decoder.\n",
        "params += \",dec_model=hyper\"                # Decoder: lstm, layer_norm or hyper.\n",
        "\n",
        "params += \",enc_rnn_size=512\"              # Size of encoder.\n",
        "params += \",enc_model=lstm\"                # Encoder: lstm, layer_norm or hyper.\n",
        "\n",
        "params += \",z_size=128\"                    # Size of latent vector z. Recommend 32, 64 or 128.\n",
        "params += \",kl_weight=1.0\"                 # KL weight of loss equation. Recommend 0.5 or 1.0.\n",
        "params += \",kl_weight_start=0.01\"          # KL start weight when annealing.\n",
        "params += \",kl_tolerance=0.2\"              # Level of KL loss at which to stop optimizing for KL.\n",
        "\n",
        "params += \",batch_size=100\"                # Minibatch size. Recommend leaving at 100.\n",
        "\n",
        "params += \",grad_clip=1.0\"                 # Gradient clipping. Recommend leaving at 1.0.\n",
        "\n",
        "params += \",num_mixture=20\"                # Number of mixtures in Gaussian mixture model.\n",
        "\n",
        "params += \",learning_rate=0.001\"           # Learning rate.\n",
        "params += \",decay_rate=0.9999\"             # Learning rate decay per minibatch.\n",
        "params += \",min_learning_rate=0.00001\"     # Minimum learning rate.\n",
        "\n",
        "params += \",kl_decay_rate=0.99995\"         # KL annealing decay rate per minibatch.\n",
        "\n",
        "params += \",use_recurrent_dropout=True\"    # Recurrent Dropout without Memory Loss. Recomended.\n",
        "params += \",recurrent_dropout_prob=0.90\"   # Probability of recurrent dropout keep.\n",
        "\n",
        "params += \",use_input_dropout=False\"       # Input dropout. Recommend leaving False.\n",
        "params += \",input_dropout_prob=0.90\"       # Probability of input dropout keep.\n",
        "\n",
        "params += \",use_output_dropout=False\"      # Output droput. Recommend leaving False.\n",
        "params += \",output_dropout_prob=0.90\"      # Probability of output dropout keep.\n",
        "\n",
        "params += \",random_scale_factor=0.15\"      # Random scaling data augmention proportion.\n",
        "params += \",augment_stroke_prob=0.10\"      # Point dropping augmentation proportion.\n",
        "\n",
        "params += \",conditional=True\"              # If False, use decoder-only model."
      ],
      "execution_count": null,
      "outputs": []
    },
    {
      "cell_type": "code",
      "metadata": {
        "id": "CSqLb8XfwjdE"
      },
      "source": [
        "# Code to start training\n",
        "!sketch_rnn_train --log_root=$model_dir --data_dir=$data_dir --hparams=$params"
      ],
      "execution_count": null,
      "outputs": []
    },
    {
      "cell_type": "code",
      "metadata": {
        "id": "EoZe6PLEcHhF"
      },
      "source": [
        "# Code to continue training\n",
        "!sketch_rnn_train --log_root=$model_dir --data_dir=$data_dir --hparams=$params --resume_training=true "
      ],
      "execution_count": null,
      "outputs": []
    }
  ]
}