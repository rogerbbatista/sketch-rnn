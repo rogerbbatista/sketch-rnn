{
  "nbformat": 4,
  "nbformat_minor": 0,
  "metadata": {
    "colab": {
      "name": "train_sketch_rnn.ipynb",
      "provenance": [],
      "collapsed_sections": []
    },
    "kernelspec": {
      "name": "python3",
      "display_name": "Python 3"
    },
    "language_info": {
      "name": "python"
    }
  },
  "cells": [
    {
      "cell_type": "code",
      "metadata": {
        "id": "k0GqvYgB9JLC"
      },
      "source": [
        "# import the required libraries\n",
        "import numpy as np\n",
        "import time\n",
        "import random\n",
        "import pickle\n",
        "import codecs\n",
        "import collections\n",
        "import os\n",
        "import math\n",
        "import json\n",
        "import tensorflow as tf\n",
        "import logging\n",
        "import sys\n",
        "from six.moves import xrange"
      ],
      "execution_count": 1,
      "outputs": []
    },
    {
      "cell_type": "code",
      "metadata": {
        "id": "xV1zTHr2fVyz"
      },
      "source": [
        "# install correct numba version and import\n",
        "!pip install -q numba==0.48\n",
        "\n",
        "import numba\n",
        "from numba import jit as optional_jit"
      ],
      "execution_count": null,
      "outputs": []
    },
    {
      "cell_type": "code",
      "metadata": {
        "id": "kHI8UHd4cZ80"
      },
      "source": [
        "# mount drive for saving trained models\n",
        "from google.colab import drive\n",
        "drive.mount('/content/drive')"
      ],
      "execution_count": null,
      "outputs": []
    },
    {
      "cell_type": "code",
      "metadata": {
        "id": "eTdNh9BNdzmL"
      },
      "source": [
        "# install magenta libraries from my drive because i changed some parameters due to old dependencies.\n",
        "# can be found at https://github.com/rogerbbatista/sketch-rnn/tree/main/modules/magenta-2.1.3\n",
        "!pip install -q '/content/drive/MyDrive/TCC/modules/magenta-2.1.3'"
      ],
      "execution_count": null,
      "outputs": []
    },
    {
      "cell_type": "code",
      "metadata": {
        "id": "tu6YhNeEF_SM"
      },
      "source": [
        "# import magenta.sketch_rnn libraries\n",
        "from magenta.models.sketch_rnn.sketch_rnn_train import *\n",
        "from magenta.models.sketch_rnn.model import *\n",
        "from magenta.models.sketch_rnn.utils import *\n",
        "from magenta.models.sketch_rnn.rnn import *"
      ],
      "execution_count": 9,
      "outputs": []
    },
    {
      "cell_type": "code",
      "metadata": {
        "id": "Dipv1EbsFQuZ"
      },
      "source": [
        "# you can download any QuickDraw dataset from Google Cloud repository and use it at: https://console.cloud.google.com/storage/browser/quickdraw_dataset/sketchrnn\n",
        "\n",
        "data_dir = '/content/drive/MyDrive/TCC/datasets' # Datasets folder \n",
        "models_path = '/content/drive/MyDrive/TCC/models' # Models path\n",
        "model_dir = models_path + '/angel' # Current model path"
      ],
      "execution_count": 18,
      "outputs": []
    },
    {
      "cell_type": "code",
      "metadata": {
        "id": "rtFk9UkcUzVr"
      },
      "source": [
        "# here i let the default parameters used\n",
        "\n",
        "params = \"\"\n",
        "\n",
        "params += \"data_set=[cat.npz]\"              # Dataset that can be a list of multiple .npz sets.\n",
        "params += \", num_steps=10000000\"            # Total number of training set. Keep large.\n",
        "params += \", save_every=500\"                # Number of batches per checkpoint creation.\n",
        "\n",
        "params += \", dec_rnn_size=2048\"              # Size of decoder.\n",
        "params += \", dec_model=hyper\"                # Decoder: lstm, layer_norm or hyper.\n",
        "\n",
        "params += \", enc_rnn_size=512\"              # Size of encoder.\n",
        "params += \", enc_model=lstm\"                # Encoder: lstm, layer_norm or hyper.\n",
        "\n",
        "params += \", z_size=128\"                    # Size of latent vector z. Recommend 32, 64 or 128.\n",
        "params += \", kl_weight=0.5\"                 # KL weight of loss equation. Recommend 0.5 or 1.0.\n",
        "params += \", kl_weight_start=0.01\"          # KL start weight when annealing.\n",
        "params += \", kl_tolerance=0.2\"              # Level of KL loss at which to stop optimizing for KL.\n",
        "\n",
        "params += \", batch_size=100\"                # Minibatch size. Recommend leaving at 100.\n",
        "\n",
        "params += \", grad_clip=1.0\"                 # Gradient clipping. Recommend leaving at 1.0.\n",
        "\n",
        "params += \", num_mixture=20\"                # Number of mixtures in Gaussian mixture model.\n",
        "\n",
        "params += \", learning_rate=0.001\"           # Learning rate.\n",
        "params += \", decay_rate=0.9999\"             # Learning rate decay per minibatch.\n",
        "params += \", min_learning_rate=0.00001\"     # Minimum learning rate.\n",
        "\n",
        "params += \", kl_decay_rate=0.99995\"         # KL annealing decay rate per minibatch.\n",
        "\n",
        "params += \", use_recurrent_dropout=True\"    # Recurrent Dropout without Memory Loss. Recomended.\n",
        "params += \", recurrent_dropout_prob=0.90\"   # Probability of recurrent dropout keep.\n",
        "\n",
        "params += \", use_input_dropout=False\"       # Input dropout. Recommend leaving False.\n",
        "params += \", input_dropout_prob=0.90\"       # Probability of input dropout keep.\n",
        "\n",
        "params += \", use_output_dropout=False\"      # Output droput. Recommend leaving False.\n",
        "params += \", output_dropout_prob=0.90\"      # Probability of output dropout keep.\n",
        "\n",
        "params += \", random_scale_factor=0.15\"      # Random scaling data augmention proportion.\n",
        "params += \", augment_stroke_prob=0.10\"      # Point dropping augmentation proportion.\n",
        "\n",
        "params += \", conditional=True\"              # If False, use decoder-only model."
      ],
      "execution_count": 19,
      "outputs": []
    },
    {
      "cell_type": "code",
      "metadata": {
        "id": "QEbijuvWckkO"
      },
      "source": [
        "!sketch_rnn_train --log_root=$model_dir --data_dir=$data_dir --hparams=$params"
      ],
      "execution_count": null,
      "outputs": []
    }
  ]
}